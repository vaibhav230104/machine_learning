{
 "cells": [
  {
   "cell_type": "code",
   "execution_count": 1,
   "id": "b91a6c35-d1ff-4bb0-b488-b38bc9b35f6a",
   "metadata": {},
   "outputs": [],
   "source": [
    "# Q1. What is an ensemble technique in machine learning?\n",
    "\n",
    "# Ensemble techniques in machine learning involve combining multiple models (learners) to create a stronger model that provides better predictive performance compared to individual models.\n",
    "\n",
    "# Q2. Why are ensemble techniques used in machine learning?\n",
    "\n",
    "# Ensemble techniques are used in machine learning to improve predictive accuracy, reduce overfitting, and increase robustness by aggregating the predictions of multiple models.\n",
    "\n",
    "# Q3. What is bagging?\n",
    "\n",
    "# Bagging (Bootstrap Aggregating) is an ensemble technique where multiple models are trained on different subsets of the training data, sampled with replacement, and their predictions are combined through averaging (for regression) or voting (for classification).\n",
    "\n",
    "# Q4. What is boosting?\n",
    "\n",
    "# Boosting is an ensemble technique where models are built sequentially, each focusing on the samples that the previous models struggled with. It aims to improve performance by giving more weight to misclassified instances.\n",
    "\n",
    "# Q5. What are the benefits of using ensemble techniques?\n",
    "\n",
    "# Benefits of ensemble techniques include improved accuracy, reduced overfitting, increased model robustness, and better generalization to unseen data compared to individual models.\n",
    "\n",
    "# Q6. Are ensemble techniques always better than individual models?\n",
    "\n",
    "# Ensemble techniques generally outperform individual models, but their superiority depends on various factors such as dataset size, quality, diversity of base models, and the specific problem being solved.\n",
    "\n",
    "# Q7. How is the confidence interval calculated using bootstrap?\n",
    "\n",
    "# Confidence intervals using bootstrap involve repeatedly resampling the dataset with replacement, calculating the statistic of interest for each sample, and then estimating the confidence interval from the distribution of these statistics.\n",
    "\n",
    "# Q8. How does bootstrap work, and what are the steps involved in bootstrap?\n",
    "\n",
    "# Bootstrap resampling involves:\n",
    "# - Drawing random samples (with replacement) from the original dataset.\n",
    "# - Calculating\n"
   ]
  },
  {
   "cell_type": "code",
   "execution_count": null,
   "id": "6b3f32ab-0176-420a-9a5f-4d2bd623da7c",
   "metadata": {},
   "outputs": [],
   "source": []
  }
 ],
 "metadata": {
  "kernelspec": {
   "display_name": "Python 3 (ipykernel)",
   "language": "python",
   "name": "python3"
  },
  "language_info": {
   "codemirror_mode": {
    "name": "ipython",
    "version": 3
   },
   "file_extension": ".py",
   "mimetype": "text/x-python",
   "name": "python",
   "nbconvert_exporter": "python",
   "pygments_lexer": "ipython3",
   "version": "3.10.8"
  }
 },
 "nbformat": 4,
 "nbformat_minor": 5
}
