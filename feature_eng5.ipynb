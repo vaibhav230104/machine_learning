{
 "cells": [
  {
   "cell_type": "code",
   "execution_count": 1,
   "id": "29702f97-7bd6-4b76-b2b4-224d499698ca",
   "metadata": {},
   "outputs": [],
   "source": [
    "#Q1 Ordinal Encoding:\n",
    "# Ordinal Encoding assigns numerical values to categories based on their order or rank.\n",
    "# It assumes an inherent order or hierarchy among the categories.\n",
    "\n",
    "# Label Encoding:\n",
    "# Label Encoding doesn't assigns numerical values to categories based on their order or rank.\n",
    "# It assumes an inherent order or hierarchy among the categories."
   ]
  },
  {
   "cell_type": "code",
   "execution_count": 1,
   "id": "e31709fa-d4b5-4182-9fdf-c804644858fe",
   "metadata": {},
   "outputs": [],
   "source": [
    "#Q2 In target encoding we can groupby using numpy library then applying the arithmetic operation."
   ]
  },
  {
   "cell_type": "code",
   "execution_count": 2,
   "id": "db618569-e686-4500-baa1-0e2e862ffa99",
   "metadata": {},
   "outputs": [],
   "source": [
    "#Q3 Covariance is a statistical measure that quantifies the relationship between two variables. It measures how changes in one variable are associated with changes in another variable.\n",
    "#Covariance is important in statistical analysis for several reasons:\n",
    "\n",
    "# Relationship Assessment: Covariance helps assess the nature of the relationship between two variables. A positive covariance indicates that the variables tend to change together in the same direction, while a negative covariance indicates they tend to change in opposite directions. A covariance close to zero suggests little or no linear relationship.\n",
    "\n",
    "# Variable Selection: Covariance can be used to identify variables that are strongly related to each other. Variables with high positive or negative covariance may provide redundant or highly correlated information. Identifying such relationships is important for avoiding multicollinearity in regression models and selecting the most relevant variables for analysis."
   ]
  },
  {
   "cell_type": "code",
   "execution_count": 10,
   "id": "470561ab-d634-48b5-933b-02cb765e281d",
   "metadata": {},
   "outputs": [
    {
     "name": "stdout",
     "output_type": "stream",
     "text": [
      "Encoded Colors: [2 1 0]\n",
      "Encoded Sizes: [2 1 0]\n",
      "Encoded Materials: [2 0 1]\n"
     ]
    }
   ],
   "source": [
    "#Q4\n",
    "from sklearn.preprocessing import LabelEncoder\n",
    "\n",
    "# Define the dataset\n",
    "colors = ['red', 'green', 'blue']\n",
    "sizes = ['small', 'medium', 'large']\n",
    "materials = ['wood', 'metal', 'plastic']\n",
    "\n",
    "# Create an instance of LabelEncoder\n",
    "label_encoder = LabelEncoder()\n",
    "\n",
    "# Fit and transform the categorical variables\n",
    "encoded_colors = label_encoder.fit_transform(colors)\n",
    "encoded_sizes = label_encoder.fit_transform(sizes)\n",
    "encoded_materials = label_encoder.fit_transform(materials)\n",
    "\n",
    "# Print the encoded variables\n",
    "print(\"Encoded Colors:\", encoded_colors)\n",
    "print(\"Encoded Sizes:\", encoded_sizes)\n",
    "print(\"Encoded Materials:\", encoded_materials)\n"
   ]
  },
  {
   "cell_type": "code",
   "execution_count": 20,
   "id": "778c35a4-33d8-4941-9b39-aace6d75df52",
   "metadata": {},
   "outputs": [
    {
     "data": {
      "text/html": [
       "<div>\n",
       "<style scoped>\n",
       "    .dataframe tbody tr th:only-of-type {\n",
       "        vertical-align: middle;\n",
       "    }\n",
       "\n",
       "    .dataframe tbody tr th {\n",
       "        vertical-align: top;\n",
       "    }\n",
       "\n",
       "    .dataframe thead th {\n",
       "        text-align: right;\n",
       "    }\n",
       "</style>\n",
       "<table border=\"1\" class=\"dataframe\">\n",
       "  <thead>\n",
       "    <tr style=\"text-align: right;\">\n",
       "      <th></th>\n",
       "      <th>Age</th>\n",
       "      <th>Income</th>\n",
       "      <th>Education_level</th>\n",
       "    </tr>\n",
       "  </thead>\n",
       "  <tbody>\n",
       "    <tr>\n",
       "      <th>Age</th>\n",
       "      <td>1.000000</td>\n",
       "      <td>0.989743</td>\n",
       "      <td>0.371154</td>\n",
       "    </tr>\n",
       "    <tr>\n",
       "      <th>Income</th>\n",
       "      <td>0.989743</td>\n",
       "      <td>1.000000</td>\n",
       "      <td>0.500000</td>\n",
       "    </tr>\n",
       "    <tr>\n",
       "      <th>Education_level</th>\n",
       "      <td>0.371154</td>\n",
       "      <td>0.500000</td>\n",
       "      <td>1.000000</td>\n",
       "    </tr>\n",
       "  </tbody>\n",
       "</table>\n",
       "</div>"
      ],
      "text/plain": [
       "                      Age    Income  Education_level\n",
       "Age              1.000000  0.989743         0.371154\n",
       "Income           0.989743  1.000000         0.500000\n",
       "Education_level  0.371154  0.500000         1.000000"
      ]
     },
     "execution_count": 20,
     "metadata": {},
     "output_type": "execute_result"
    }
   ],
   "source": [
    "#Q5\n",
    "import pandas as pd\n",
    "df=pd.DataFrame({'Age':[20,28,23],'Income':[5000,6000,5500],'Education_level':[10,11,12]})\n",
    "df.corr()"
   ]
  },
  {
   "cell_type": "code",
   "execution_count": 21,
   "id": "43316175-aa73-4137-ac91-eb990451d2cf",
   "metadata": {},
   "outputs": [],
   "source": [
    "#Q6 We can use ordinal encoding."
   ]
  },
  {
   "cell_type": "code",
   "execution_count": 22,
   "id": "7367f149-ff05-45e5-a80c-cb2d747205e6",
   "metadata": {},
   "outputs": [
    {
     "name": "stdout",
     "output_type": "stream",
     "text": [
      "Covariance Matrix:\n",
      "[[ 24.5 -10. ]\n",
      " [-10.   62.5]]\n"
     ]
    }
   ],
   "source": [
    "#Q7\n",
    "import numpy as np\n",
    "\n",
    "# Example data\n",
    "temperature = [25, 30, 35, 28, 22]\n",
    "humidity = [60, 65, 70, 75, 80]\n",
    "weather_condition = ['Sunny', 'Cloudy', 'Rainy', 'Cloudy', 'Sunny']\n",
    "wind_direction = ['North', 'South', 'East', 'West', 'North']\n",
    "\n",
    "# Calculate the covariance matrix\n",
    "data = np.array([temperature, humidity])\n",
    "covariance_matrix = np.cov(data)\n",
    "\n",
    "# Print the covariance matrix\n",
    "print(\"Covariance Matrix:\")\n",
    "print(covariance_matrix)\n"
   ]
  },
  {
   "cell_type": "code",
   "execution_count": 27,
   "id": "e5e1c384-8b88-4405-9d85-6885dc4e21bf",
   "metadata": {},
   "outputs": [
    {
     "data": {
      "text/html": [
       "<div>\n",
       "<style scoped>\n",
       "    .dataframe tbody tr th:only-of-type {\n",
       "        vertical-align: middle;\n",
       "    }\n",
       "\n",
       "    .dataframe tbody tr th {\n",
       "        vertical-align: top;\n",
       "    }\n",
       "\n",
       "    .dataframe thead th {\n",
       "        text-align: right;\n",
       "    }\n",
       "</style>\n",
       "<table border=\"1\" class=\"dataframe\">\n",
       "  <thead>\n",
       "    <tr style=\"text-align: right;\">\n",
       "      <th></th>\n",
       "      <th>t</th>\n",
       "    </tr>\n",
       "  </thead>\n",
       "  <tbody>\n",
       "    <tr>\n",
       "      <th>0</th>\n",
       "      <td>25</td>\n",
       "    </tr>\n",
       "    <tr>\n",
       "      <th>1</th>\n",
       "      <td>30</td>\n",
       "    </tr>\n",
       "    <tr>\n",
       "      <th>2</th>\n",
       "      <td>35</td>\n",
       "    </tr>\n",
       "    <tr>\n",
       "      <th>3</th>\n",
       "      <td>28</td>\n",
       "    </tr>\n",
       "    <tr>\n",
       "      <th>4</th>\n",
       "      <td>22</td>\n",
       "    </tr>\n",
       "  </tbody>\n",
       "</table>\n",
       "</div>"
      ],
      "text/plain": [
       "    t\n",
       "0  25\n",
       "1  30\n",
       "2  35\n",
       "3  28\n",
       "4  22"
      ]
     },
     "execution_count": 27,
     "metadata": {},
     "output_type": "execute_result"
    }
   ],
   "source": [
    "pd.DataFrame(temperature,columns=['t'])"
   ]
  },
  {
   "cell_type": "code",
   "execution_count": null,
   "id": "3073582e-33c2-4633-9e56-1093642bb9e7",
   "metadata": {},
   "outputs": [],
   "source": []
  }
 ],
 "metadata": {
  "kernelspec": {
   "display_name": "Python 3 (ipykernel)",
   "language": "python",
   "name": "python3"
  },
  "language_info": {
   "codemirror_mode": {
    "name": "ipython",
    "version": 3
   },
   "file_extension": ".py",
   "mimetype": "text/x-python",
   "name": "python",
   "nbconvert_exporter": "python",
   "pygments_lexer": "ipython3",
   "version": "3.10.8"
  }
 },
 "nbformat": 4,
 "nbformat_minor": 5
}
