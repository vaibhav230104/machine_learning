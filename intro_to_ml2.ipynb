{
 "cells": [
  {
   "cell_type": "code",
   "execution_count": 1,
   "id": "2110fd3d-fba4-4460-8558-d28471c40243",
   "metadata": {},
   "outputs": [],
   "source": [
    "#1 Overfitting: Model learns training data too well, performs poorly on unseen data. Underfitting: Model is too simple, fails to capture patterns."
   ]
  },
  {
   "cell_type": "code",
   "execution_count": 5,
   "id": "f77591ec-052c-43fe-a68a-04c9f244c63f",
   "metadata": {},
   "outputs": [],
   "source": [
    "#2 Reduce overfitting: Regularization, cross-validation, early stopping, feature selection.\n",
    "\n"
   ]
  },
  {
   "cell_type": "code",
   "execution_count": 6,
   "id": "7fe2c5d3-69ea-4e4f-bd58-ea349e0e35aa",
   "metadata": {},
   "outputs": [],
   "source": [
    "#Q3: Underfitting: Model is too simple, high bias. Occurs with linear models on nonlinear data or insufficient training."
   ]
  },
  {
   "cell_type": "code",
   "execution_count": 2,
   "id": "78244603-acd0-486e-8625-f1ae9242d3b9",
   "metadata": {},
   "outputs": [],
   "source": [
    "#Q4: Bias-variance tradeoff: Balance between bias (underfitting) and variance (overfitting). Minimize both for optimal performance.\n"
   ]
  },
  {
   "cell_type": "code",
   "execution_count": 3,
   "id": "8fded3ac-761c-49be-aa72-78dcf9568ba3",
   "metadata": {},
   "outputs": [],
   "source": [
    "#Q5: Detect overfitting/underfitting: Monitor training/validation/test performance, learning curves, cross-validation."
   ]
  },
  {
   "cell_type": "code",
   "execution_count": 4,
   "id": "89017055-774e-470d-bd93-8b7812ce77c6",
   "metadata": {},
   "outputs": [],
   "source": [
    "#Q6: Bias: Error from simplified model, high bias models underfit. Variance: Variability of predictions, high variance models overfit.\n"
   ]
  },
  {
   "cell_type": "code",
   "execution_count": null,
   "id": "26379838-3a3a-4cb4-b2da-5b9af45de2b0",
   "metadata": {},
   "outputs": [],
   "source": [
    "#Q7: Regularization: Technique to prevent overfitting. Examples: L1/L2 regularization, dropout, elastic net. Penalize complex models."
   ]
  },
  {
   "cell_type": "code",
   "execution_count": null,
   "id": "cc49711c-f2a7-4130-b8d1-d334ff62098b",
   "metadata": {},
   "outputs": [],
   "source": [
    "Q3: Underfitting: Model is too simple, high bias. Occurs with linear models on nonlinear data or insufficient training.\n",
    "\n",
    "Q4: Bias-variance tradeoff: Balance between bias (underfitting) and variance (overfitting). Minimize both for optimal performance.\n",
    "\n",
    "Q5: Detect overfitting/underfitting: Monitor training/validation/test performance, learning curves, cross-validation.\n",
    "\n",
    "Q6: Bias: Error from simplified model, high bias models underfit. Variance: Variability of predictions, high variance models overfit.\n",
    "\n",
    "Q7: Regularization: Technique to prevent overfitting. Examples: L1/L2 regularization, dropout, elastic net. Penalize complex models."
   ]
  }
 ],
 "metadata": {
  "kernelspec": {
   "display_name": "Python 3 (ipykernel)",
   "language": "python",
   "name": "python3"
  },
  "language_info": {
   "codemirror_mode": {
    "name": "ipython",
    "version": 3
   },
   "file_extension": ".py",
   "mimetype": "text/x-python",
   "name": "python",
   "nbconvert_exporter": "python",
   "pygments_lexer": "ipython3",
   "version": "3.10.8"
  }
 },
 "nbformat": 4,
 "nbformat_minor": 5
}
