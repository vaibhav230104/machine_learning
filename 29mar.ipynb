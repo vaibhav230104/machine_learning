{
 "cells": [
  {
   "cell_type": "code",
   "execution_count": 1,
   "id": "38648270-a520-434c-b6cb-332f5fc329e8",
   "metadata": {},
   "outputs": [],
   "source": [
    "# Q1. What is Lasso Regression, and how does it differ from other regression techniques?\n",
    "\n",
    "# Lasso Regression, short for Least Absolute Shrinkage and Selection Operator, is a regression technique that incorporates a penalty term (L1 norm) to the regression's cost function. It differs from other regression methods by enforcing sparsity in the coefficient estimates, effectively performing feature selection by reducing less important features' coefficients to zero.\n",
    "\n",
    "# Q2. What is the main advantage of using Lasso Regression in feature selection?\n",
    "\n",
    "# The primary advantage of Lasso Regression in feature selection is its capability to shrink coefficients all the way to zero, effectively eliminating less relevant features from the model. This helps in creating more parsimonious models by selecting the most important predictors.\n",
    "\n",
    "# Q3. How do you interpret the coefficients of a Lasso Regression model?\n",
    "\n",
    "# Interpreting coefficients in Lasso Regression is similar to other regression techniques. A non-zero coefficient indicates the strength and direction of the relationship between the independent variable and the dependent variable. However, zero coefficients mean that the associated feature has been effectively eliminated from the model.\n",
    "\n",
    "# Q4. What are the tuning parameters that can be adjusted in Lasso Regression, and how do they affect the model's performance?\n",
    "\n",
    "# The main tuning parameter in Lasso Regression is the regularization parameter (lambda or alpha). This parameter controls the strength of the penalty applied to the coefficients. Higher values of lambda increase the penalty, leading to more coefficients being shrunk to zero, which can simplify the model but might also increase bias.\n",
    "\n",
    "# Q5. Can Lasso Regression be used for non-linear regression problems? If yes, how?\n",
    "\n",
    "# Lasso Regression, by itself, is a linear regression technique that can't handle non-linear relationships between variables. However, by including polynomial terms or using basis function expansion on the input features, Lasso Regression can capture non-linear relationships.\n",
    "\n",
    "# Q6. What is the difference between Ridge Regression and Lasso Regression?\n",
    "\n",
    "# The primary difference between Ridge and Lasso Regression lies in the penalty term. Ridge Regression uses an L2 penalty, while Lasso Regression uses an L1 penalty. Ridge tends to shrink coefficients towards zero but doesn't eliminate them entirely, whereas Lasso can eliminate coefficients by setting them to zero.\n",
    "\n",
    "# Q7. Can Lasso Regression handle multicollinearity in the input features? If yes, how?\n",
    "\n",
    "# Yes, Lasso Regression can handle multicollinearity by reducing the coefficients of correlated features and potentially eliminating some of them entirely. This helps in addressing multicollinearity by automatically selecting one among highly correlated variables.\n",
    "\n",
    "# Q8. How do you choose the optimal value of the regularization parameter (lambda) in Lasso Regression?\n",
    "\n",
    "# The optimal value of lambda in Lasso Regression can be selected using techniques like cross-validation. By evaluating different values of lambda, one can choose the value that minimizes prediction error or uses other criteria like the one-standard-error rule or grid search.\n"
   ]
  },
  {
   "cell_type": "code",
   "execution_count": null,
   "id": "51c7c817-cca3-4436-9a0f-e2895cbf1bc2",
   "metadata": {},
   "outputs": [],
   "source": []
  }
 ],
 "metadata": {
  "kernelspec": {
   "display_name": "Python 3 (ipykernel)",
   "language": "python",
   "name": "python3"
  },
  "language_info": {
   "codemirror_mode": {
    "name": "ipython",
    "version": 3
   },
   "file_extension": ".py",
   "mimetype": "text/x-python",
   "name": "python",
   "nbconvert_exporter": "python",
   "pygments_lexer": "ipython3",
   "version": "3.10.8"
  }
 },
 "nbformat": 4,
 "nbformat_minor": 5
}
