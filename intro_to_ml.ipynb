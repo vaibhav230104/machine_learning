{
 "cells": [
  {
   "cell_type": "code",
   "execution_count": 2,
   "id": "2858f29b-252f-4c7c-a832-9e2bff99277f",
   "metadata": {},
   "outputs": [],
   "source": [
    "#Q1 Artificial Intelligence (AI) refers to the development of computer systems capable of performing tasks that typically require human intelligence. These tasks can include speech recognition, decision-making, problem-solving, and learning.\n",
    "# Machine Learning is a subset of AI that focuses on the development of algorithms and models that enable computers to learn from data and make predictions or take actions without being explicitly programmed. It involves training a machine learning model on a dataset to identify patterns and relationships, which it can then use to make informed decisions or predictions when presented with new data.\n",
    "# Deep Learning is a specific subfield of machine learning that utilizes artificial neural networks with multiple layers (deep neural networks) to learn and make predictions. These networks are inspired by the structure and function of the human brain, with each layer of neurons learning to extract higher-level representations of the input data. Deep learning has achieved significant breakthroughs in various domains, including computer vision, natural language processing, and speech recognition."
   ]
  },
  {
   "cell_type": "code",
   "execution_count": 3,
   "id": "aec00b11-1704-4561-9f59-5d3e84c14813",
   "metadata": {},
   "outputs": [],
   "source": [
    "#Q2 Supervised learning: Learning from labeled data with known outputs.\n",
    "# Examples: Linear regression, logistic regression, decision trees."
   ]
  },
  {
   "cell_type": "code",
   "execution_count": 4,
   "id": "b8a2ce0c-3db0-4ab0-8a36-8b3786eee637",
   "metadata": {},
   "outputs": [],
   "source": [
    "# Unsupervised learning: Learning from unlabeled data without known outputs.\n",
    "# Examples: Clustering (K-means, hierarchical), dimensionality reduction (PCA, t-SNE), association rule learning (Apriori)."
   ]
  },
  {
   "cell_type": "code",
   "execution_count": 5,
   "id": "62cec19a-8375-44d8-ba08-da8c1b90a846",
   "metadata": {},
   "outputs": [],
   "source": [
    "#Q4 AI: Broad field of developing intelligent systems. ML: Subset of AI focusing on algorithms learning from data. DL: ML using deep neural networks. DS: Combines statistics, ML, and domain knowledge for data analysis."
   ]
  },
  {
   "cell_type": "code",
   "execution_count": 6,
   "id": "f75080aa-b7ca-43d0-a2aa-707c43e99ce5",
   "metadata": {},
   "outputs": [],
   "source": [
    "#Q5 Supervised learning: Uses labeled data for prediction. Unsupervised learning: Discovers patterns without labels. Semi-supervised learning: Combination of labeled and unlabeled data."
   ]
  },
  {
   "cell_type": "code",
   "execution_count": 7,
   "id": "f74f4f42-f90e-4d83-a48f-283399d3b732",
   "metadata": {},
   "outputs": [],
   "source": [
    "#Q6  Train, test, and validation split: Dividing data into subsets for training, evaluation, and fine-tuning the model"
   ]
  },
  {
   "cell_type": "code",
   "execution_count": 8,
   "id": "20c704ff-c7ea-4455-afb2-60f26c7a6d1e",
   "metadata": {},
   "outputs": [],
   "source": [
    "#Q7  Unsupervised learning for anomaly detection: Identifies unusual patterns or outliers in data without predefined labels."
   ]
  },
  {
   "cell_type": "code",
   "execution_count": 9,
   "id": "c41470d8-474e-4fa1-a5ba-f47913be5c63",
   "metadata": {},
   "outputs": [],
   "source": [
    "#Q8 Common supervised learning algorithms: Linear regression, logistic regression, SVM, decision trees, random forest, neural networks. Common unsupervised learning algorithms: Clustering (K-means, hierarchical), dimensionality reduction (PCA, t-SNE), association rule learning (Apriori)."
   ]
  }
 ],
 "metadata": {
  "kernelspec": {
   "display_name": "Python 3 (ipykernel)",
   "language": "python",
   "name": "python3"
  },
  "language_info": {
   "codemirror_mode": {
    "name": "ipython",
    "version": 3
   },
   "file_extension": ".py",
   "mimetype": "text/x-python",
   "name": "python",
   "nbconvert_exporter": "python",
   "pygments_lexer": "ipython3",
   "version": "3.10.8"
  }
 },
 "nbformat": 4,
 "nbformat_minor": 5
}
