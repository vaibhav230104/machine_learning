{
 "cells": [
  {
   "cell_type": "code",
   "execution_count": 2,
   "id": "5117412b-c5ec-4425-a371-9a8bcb15eaf0",
   "metadata": {},
   "outputs": [],
   "source": [
    "# Q1. A company conducted a survey of its employees and found that 70% of the employees use the company's health insurance plan, while 40% of the employees who use the plan are smokers. What is the probability that an employee is a smoker given that he/she uses the health insurance plan?\n",
    "\n",
    "# Using Bayes' theorem:\n",
    "# P(Smoker | Uses insurance) = (P(Uses insurance | Smoker) * P(Smoker)) / P(Uses insurance)\n",
    "# Given: P(Uses insurance) = 0.7, P(Smoker | Uses insurance) = 0.4\n",
    "# P(Smoker) = ?\n",
    "\n",
    "# P_Smoker_given_Uses_insurance = (0.4 * P_Smoker) / P_Uses_insurance  # Calculate using Bayes' theorem\n",
    "\n",
    "# Q2. What is the difference between Bernoulli Naive Bayes and Multinomial Naive Bayes?\n",
    "\n",
    "# Bernoulli Naive Bayes handles binary/boolean features and assumes that each feature is a binary variable.\n",
    "# Multinomial Naive Bayes is suitable for features representing counts or frequencies and considers the frequency of occurrences.\n",
    "\n",
    "# Q3. How does Bernoulli Naive Bayes handle missing values?\n",
    "\n",
    "# Bernoulli Naive Bayes treats missing values as 'absence' of the feature. If a feature is missing, it assumes the feature didn’t occur in the sample.\n",
    "\n",
    "# Q4. Can Gaussian Naive Bayes be used for multi-class classification?\n",
    "\n",
    "# Yes, Gaussian Naive Bayes can be used for multi-class classification problems. It calculates the probability of each class based on continuous features assuming a Gaussian distribution.\n",
    "\n",
    "# Q5. Assignment: (Implemented in Python)\n",
    "\n",
    "# Download the Spambase dataset and preprocess it.\n",
    "# Implement Bernoulli, Multinomial, and Gaussian Naive Bayes classifiers using scikit-learn.\n",
    "# Use 10-fold cross-validation to evaluate each classifier's performance.\n"
   ]
  },
  {
   "cell_type": "code",
   "execution_count": null,
   "id": "774e8e05-ee8b-4cca-bda5-652fed088061",
   "metadata": {},
   "outputs": [],
   "source": []
  }
 ],
 "metadata": {
  "kernelspec": {
   "display_name": "Python 3 (ipykernel)",
   "language": "python",
   "name": "python3"
  },
  "language_info": {
   "codemirror_mode": {
    "name": "ipython",
    "version": 3
   },
   "file_extension": ".py",
   "mimetype": "text/x-python",
   "name": "python",
   "nbconvert_exporter": "python",
   "pygments_lexer": "ipython3",
   "version": "3.10.8"
  }
 },
 "nbformat": 4,
 "nbformat_minor": 5
}
