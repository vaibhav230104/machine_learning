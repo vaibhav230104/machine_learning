{
 "cells": [
  {
   "cell_type": "code",
   "execution_count": 1,
   "id": "3e3947bd-405e-4a47-b7c8-4e03c4dd1fc4",
   "metadata": {},
   "outputs": [],
   "source": [
    "# Q1. In order to predict house price based on several characteristics, such as location, square footage, number of bedrooms, etc., you are developing an SVM regression model. Which regression metric in this situation would be the best to employ?\n",
    "\n",
    "# For predicting house prices using an SVM regression model, the best regression metric to employ would likely be Root Mean Squared Error (RMSE). It provides an understanding of the average prediction error in the same units as the target variable (house prices).\n",
    "\n",
    "# Q2. You have built an SVM regression model and are trying to decide between using MSE or R-squared as your evaluation metric. Which metric would be more appropriate if your goal is to predict the actual price of a house as accurately as possible?\n",
    "\n",
    "# If the goal is to predict the actual price of a house as accurately as possible, using Mean Squared Error (MSE) would be more appropriate. MSE directly measures the average squared difference between predicted and actual prices, providing insight into the magnitude of prediction errors.\n",
    "\n",
    "# Q3. You have a dataset with a significant number of outliers and are trying to select an appropriate regression metric to use with your SVM model. Which metric would be the most appropriate in this scenario?\n",
    "\n",
    "# In a scenario with a significant number of outliers, a more robust regression metric like Mean Absolute Error (MAE) would be more appropriate to use with an SVM model. MAE is less sensitive to outliers compared to MSE, making it a better choice in such scenarios.\n",
    "\n",
    "# Q4. You have built an SVM regression model using a polynomial kernel and are trying to select the best metric to evaluate its performance. You have calculated both MSE and RMSE and found that both values are very close. Which metric should you choose to use in this case?\n",
    "\n",
    "# When MSE and RMSE values are very close in an SVM regression model using a polynomial kernel, choosing either metric for evaluation is acceptable as they both represent the squared differences between predicted and actual values. However, RMSE might be more interpretable as it provides error in the same units as the target variable.\n",
    "\n",
    "# Q5. You are comparing the performance of different SVM regression models using different kernels (linear, polynomial, and RBF) and are trying to select the best evaluation metric. Which metric would be most appropriate if your goal is to measure how well the model explains the variance in the target variable?\n",
    "\n",
    "# When comparing the performance of different SVM regression models with different kernels and aiming to measure how well the model explains the variance in the target variable, R-squared (coefficient of determination) would be the most appropriate metric. R-squared quantifies the proportion of variance in the target variable that is predictable from the independent variables, indicating the goodness of fit of the model.\n"
   ]
  },
  {
   "cell_type": "code",
   "execution_count": null,
   "id": "61ef884d-9aa2-4083-b3c8-bd66535c8559",
   "metadata": {},
   "outputs": [],
   "source": []
  }
 ],
 "metadata": {
  "kernelspec": {
   "display_name": "Python 3 (ipykernel)",
   "language": "python",
   "name": "python3"
  },
  "language_info": {
   "codemirror_mode": {
    "name": "ipython",
    "version": 3
   },
   "file_extension": ".py",
   "mimetype": "text/x-python",
   "name": "python",
   "nbconvert_exporter": "python",
   "pygments_lexer": "ipython3",
   "version": "3.10.8"
  }
 },
 "nbformat": 4,
 "nbformat_minor": 5
}
