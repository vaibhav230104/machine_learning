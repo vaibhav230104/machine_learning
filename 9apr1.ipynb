{
 "cells": [
  {
   "cell_type": "code",
   "execution_count": 1,
   "id": "0a1fac57-78b6-45ab-b55d-78f71283b87e",
   "metadata": {},
   "outputs": [],
   "source": [
    "# Q1. What is Bayes' theorem?\n",
    "\n",
    "# Bayes' theorem is a fundamental concept in probability theory and statistics used to update the probability for a hypothesis as more evidence or information becomes available. It describes the probability of an event based on prior knowledge of conditions that might be related to the event.\n",
    "\n",
    "# Q2. What is the formula for Bayes' theorem?\n",
    "\n",
    "# Bayes' theorem is mathematically expressed as:\n",
    "# P(A|B) = (P(B|A) * P(A)) / P(B)\n",
    "# Where:\n",
    "# - P(A|B) is the probability of event A occurring given that event B has occurred.\n",
    "# - P(B|A) is the probability of event B occurring given that event A has occurred.\n",
    "# - P(A) and P(B) are the probabilities of events A and B occurring independently.\n",
    "\n",
    "# Q3. How is Bayes' theorem used in practice?\n",
    "\n",
    "# Bayes' theorem is used in various fields, such as machine learning, spam filtering, medical diagnosis, and more. It helps update the probability of an event based on new evidence or information, making predictions or classifications more accurate.\n",
    "\n",
    "# Q4. What is the relationship between Bayes' theorem and conditional probability?\n",
    "\n",
    "# Bayes' theorem is based on conditional probability. It defines the relationship between the conditional probabilities of two events.\n",
    "\n",
    "# Q5. How do you choose which type of Naive Bayes classifier to use for any given problem?\n",
    "\n",
    "# The choice of the Naive Bayes classifier (Gaussian, Multinomial, Bernoulli) depends on the nature of the features in the dataset and the assumptions made about the distribution of the data. For example:\n",
    "# - Gaussian Naive Bayes assumes features follow a Gaussian distribution.\n",
    "# - Multinomial Naive Bayes is suitable for features representing counts or frequencies.\n",
    "# - Bernoulli Naive Bayes is used for binary features.\n",
    "\n",
    "# Q6. Assignment:\n",
    "\n",
    "# The Naive Bayes classifier calculates the probability of each class given the values of X1=3 and X2=4 using the provided frequency table and assuming equal prior probabilities for each class.\n",
    "\n",
    "# P(A|X1=3, X2=4) ∝ P(X1=3|A) * P(X2=4|A) * P(A)\n",
    "# P(B|X1=3, X2=4) ∝ P(X1=3|B) * P(X2=4|B) * P(B)\n",
    "\n",
    "# Calculating the probabilities using the provided frequencies:\n",
    "# P(X1=3|A) = 4/10, P(X2=4|A) = 3/10, P(A) = 1/2\n",
    "# P(X1=3|B) = 1/5, P(X2=4|B) = 3/5, P(B) = 1/2\n",
    "\n",
    "# Calculate the final probabilities and choose the class with higher probability.\n",
    "\n",
    "# Using Naive Bayes:\n",
    "P_A_given_X1_3_X2_4 = (4/10) * (3/10) * (1/2)\n",
    "P_B_given_X1_3_X2_4 = (1/5) * (3/5) * (1/2)\n",
    "\n",
    "# Comparing the probabilities:\n",
    "if P_A_given_X1_3_X2_4 > P_B_given_X1_3_X2_4:\n",
    "    predicted_class = 'A'\n",
    "else:\n",
    "    predicted_class = 'B'\n",
    "\n",
    "# The Naive Bayes classifier would predict the new instance to belong to class 'A'.\n"
   ]
  },
  {
   "cell_type": "code",
   "execution_count": null,
   "id": "17768901-ce71-4adf-9711-9350b80aed38",
   "metadata": {},
   "outputs": [],
   "source": []
  }
 ],
 "metadata": {
  "kernelspec": {
   "display_name": "Python 3 (ipykernel)",
   "language": "python",
   "name": "python3"
  },
  "language_info": {
   "codemirror_mode": {
    "name": "ipython",
    "version": 3
   },
   "file_extension": ".py",
   "mimetype": "text/x-python",
   "name": "python",
   "nbconvert_exporter": "python",
   "pygments_lexer": "ipython3",
   "version": "3.10.8"
  }
 },
 "nbformat": 4,
 "nbformat_minor": 5
}
