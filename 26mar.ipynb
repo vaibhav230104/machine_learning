{
 "cells": [
  {
   "cell_type": "code",
   "execution_count": 1,
   "id": "e6b4d05b-57a2-47e9-9458-e325fc5b235e",
   "metadata": {},
   "outputs": [],
   "source": [
    "# Q1. Explain the difference between simple linear regression and multiple linear regression. Provide an example of each.\n",
    "\n",
    "# Simple linear regression involves predicting a dependent variable based on a single independent variable. For instance, predicting house prices based on square footage.\n",
    "# Multiple linear regression, on the other hand, predicts a dependent variable using two or more independent variables. For example, predicting house prices considering square footage, number of bedrooms, and location.\n",
    "\n",
    "# Q2. Discuss the assumptions of linear regression. How can you check whether these assumptions hold in a given dataset?\n",
    "\n",
    "# Assumptions include linearity, independence of errors, homoscedasticity (constant variance of residuals), normality of residuals, and absence of multicollinearity. You can check these assumptions using residual plots, correlation matrices, and statistical tests like Shapiro-Wilk for normality.\n",
    "\n",
    "# Q3. How do you interpret the slope and intercept in a linear regression model? Provide an example using a real-world scenario.\n",
    "\n",
    "# The intercept represents the value of the dependent variable when all independent variables are zero. The slope indicates the change in the dependent variable for a one-unit change in the independent variable. For instance, in a salary prediction model, the intercept could represent the base salary, and the slope for years of experience would show the salary increase per year of experience.\n",
    "\n",
    "# Q4. Explain the concept of gradient descent. How is it used in machine learning?\n",
    "\n",
    "# Gradient descent is an optimization algorithm used to minimize the loss function by iteratively updating model parameters in the direction of the steepest descent of the gradient. It's employed in machine learning to train models by finding optimal coefficients/weights that minimize the error between predicted and actual values.\n",
    "\n",
    "# Q5. Describe the multiple linear regression model. How does it differ from simple linear regression?\n",
    "\n",
    "# Multiple linear regression involves predicting a dependent variable using two or more independent variables. Unlike simple linear regression, which uses only one independent variable, multiple linear regression considers multiple predictors simultaneously to estimate the dependent variable.\n",
    "\n",
    "# Q6. Explain the concept of multicollinearity in multiple linear regression. How can you detect and address this issue?\n",
    "\n",
    "# Multicollinearity occurs when independent variables in a regression model are highly correlated. It can destabilize coefficient estimates. Detect it using correlation matrices or variance inflation factor (VIF). Address it by removing one of the correlated variables, combining them, or using dimensionality reduction techniques like PCA.\n",
    "\n",
    "# Q7. Describe the polynomial regression model. How is it different from linear regression?\n",
    "\n",
    "# Polynomial regression involves fitting a curved relationship between the dependent and independent variables by including polynomial terms (e.g., squared or cubed terms) in the model. Unlike linear regression, which assumes a linear relationship, polynomial regression can capture non-linear patterns.\n",
    "\n",
    "# Q8. What are the advantages and disadvantages of polynomial regression compared to linear regression? In what situations would you prefer to use polynomial regression?\n",
    "\n",
    "# Advantages: Can model complex relationships, more flexibility in fitting data.\n",
    "# Disadvantages: Susceptible to overfitting, harder to interpret.\n",
    "# Use polynomial regression when the relationship between variables appears non-linear, but be cautious of overfitting and consider the trade-off between complexity and interpretability.\n"
   ]
  },
  {
   "cell_type": "code",
   "execution_count": null,
   "id": "4b6a4117-c6f9-46cb-be28-744ce51f5dc5",
   "metadata": {},
   "outputs": [],
   "source": []
  }
 ],
 "metadata": {
  "kernelspec": {
   "display_name": "Python 3 (ipykernel)",
   "language": "python",
   "name": "python3"
  },
  "language_info": {
   "codemirror_mode": {
    "name": "ipython",
    "version": 3
   },
   "file_extension": ".py",
   "mimetype": "text/x-python",
   "name": "python",
   "nbconvert_exporter": "python",
   "pygments_lexer": "ipython3",
   "version": "3.10.8"
  }
 },
 "nbformat": 4,
 "nbformat_minor": 5
}
